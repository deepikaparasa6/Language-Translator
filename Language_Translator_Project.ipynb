{
  "nbformat": 4,
  "nbformat_minor": 0,
  "metadata": {
    "colab": {
      "provenance": [],
      "gpuType": "T4",
      "authorship_tag": "ABX9TyMFywtIUBBCiMhuZGfnNx6Z",
      "include_colab_link": true
    },
    "kernelspec": {
      "name": "python3",
      "display_name": "Python 3"
    },
    "language_info": {
      "name": "python"
    },
    "accelerator": "GPU"
  },
  "cells": [
    {
      "cell_type": "markdown",
      "metadata": {
        "id": "view-in-github",
        "colab_type": "text"
      },
      "source": [
        "<a href=\"https://colab.research.google.com/github/deepikaparasa6/Language-Translator/blob/develop/Language_Translator_Project.ipynb\" target=\"_parent\"><img src=\"https://colab.research.google.com/assets/colab-badge.svg\" alt=\"Open In Colab\"/></a>"
      ]
    },
    {
      "cell_type": "code",
      "execution_count": null,
      "metadata": {
        "id": "EtFJa28G3YB2",
        "collapsed": true
      },
      "outputs": [],
      "source": [
        "# Install the required libraries\n",
        "!pip install deep-translator\n",
        "!pip install gradio"
      ]
    },
    {
      "cell_type": "code",
      "source": [
        "# Importing the main translation class from deep_translator\n",
        "from deep_translator import GoogleTranslator\n",
        "# Importing Gradio to build a simple UI\n",
        "import gradio as gr"
      ],
      "metadata": {
        "id": "dwsRK-F43xwa"
      },
      "execution_count": null,
      "outputs": []
    },
    {
      "cell_type": "code",
      "source": [
        "# This function will take the input text, source language, and target language\n",
        "# and return the translated version using Google Translate (via deep-translator package)\n",
        "def translate_text(text, source_lang, target_lang):\n",
        "    try:\n",
        "        # Try translating using the GoogleTranslator class\n",
        "        translated = GoogleTranslator(source=source_lang, target=target_lang).translate(text)\n",
        "        return translated\n",
        "    except Exception as e:\n",
        "       # If there's any error (like wrong language name), show the error as output\n",
        "        return f\"Error: {str(e)}\""
      ],
      "metadata": {
        "id": "EepHh0Sr3yYr"
      },
      "execution_count": null,
      "outputs": []
    },
    {
      "cell_type": "code",
      "source": [
        "# Example 1: English to Hindi\n",
        "print(\"EN -> HI:\", translate_text(\"How are you?\", \"english\", \"hindi\"))\n",
        "\n",
        "# Example 2: Hindi to English\n",
        "print(\"HI -> EN:\", translate_text(\"आप कैसे हैं?\", \"hindi\", \"english\"))\n",
        "\n",
        "# Example 3: English to Telugu\n",
        "print(\"EN -> TE:\", translate_text(\"What is your name?\", \"english\", \"telugu\"))\n",
        "\n",
        "# Example 4: French to English\n",
        "print(\"FR -> EN:\", translate_text(\"Bonjour\", \"french\", \"english\"))"
      ],
      "metadata": {
        "id": "1z-YsxJ132qR"
      },
      "execution_count": null,
      "outputs": []
    },
    {
      "cell_type": "code",
      "source": [
        "# Creating an instance just to fetch the list of languages supported by Google Translate\n",
        "# We're using 'auto' here so Google auto-detects the input language\n",
        "translator_instance = GoogleTranslator(source=\"auto\", target=\"english\")\n",
        "# Get the full list of supported languages so we can show them in dropdowns\n",
        "supported_languages = translator_instance.get_supported_languages()\n",
        "\n",
        "# This function will be used inside Gradio. It just calls the main translate_text function.\n",
        "def gradio_translate(text, source_lang, target_lang):\n",
        "    return translate_text(text, source_lang, target_lang)\n",
        "\n",
        "#Importing to create our UI\n",
        "import gradio as gr\n",
        "\n",
        "with gr.Blocks(title=\"Language Translator 🌐\", theme=gr.themes.Base()) as app:\n",
        "\n",
        "    # Title and description at the top\n",
        "    gr.Markdown(\"\"\"\n",
        "    <h1 style='text-align: center; color: #4CAF50;'>🌍 AI-Powered Language Translator</h1>\n",
        "    <p style='text-align: center;'>Translate between 100+ languages using Google Translate API</p>\n",
        "    \"\"\")\n",
        "\n",
        "    # Textbox where user will type the sentence to translate\n",
        "    with gr.Row():\n",
        "        text_input = gr.Textbox(label=\"📝 Enter text to translate\", placeholder=\"Type your sentence here...\", lines=3)\n",
        "    # Two dropdowns: one for source language, one for target language\n",
        "    with gr.Row():\n",
        "        from_lang = gr.Dropdown(supported_languages, label=\"🌐 From Language\", value=\"auto\")\n",
        "        to_lang = gr.Dropdown(supported_languages, label=\"🔤 To Language\", value=\"english\")\n",
        "\n",
        "    # Output field to show the translated text\n",
        "    translated_output = gr.Textbox(label=\"📘 Translated Text\")\n",
        "\n",
        "    # Button that triggers the translation\n",
        "    translate_btn = gr.Button(\"✨ Translate Now\")\n",
        "\n",
        "    # What happens when the button is clicked — this runs the translation\n",
        "    def on_translate(text, src, tgt):\n",
        "        return translate_text(text, src, tgt)\n",
        "\n",
        "    translate_btn.click(on_translate, inputs=[text_input, from_lang, to_lang], outputs=translated_output)\n",
        "\n",
        "\n",
        "# Start the app\n",
        "app.launch()"
      ],
      "metadata": {
        "id": "76iwBZ-r34j4"
      },
      "execution_count": null,
      "outputs": []
    }
  ]
}